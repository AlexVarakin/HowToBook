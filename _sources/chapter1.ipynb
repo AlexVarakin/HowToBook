{
 "cells": [
  {
   "cell_type": "markdown",
   "id": "52cdff00",
   "metadata": {},
   "source": [
    "# Chapter 1: Why Python and Statistics?\n",
    "\n",
    "If you're like most students studying psychology, then you are surely excited that you finally get to study **statistics** and **computer programming** in a single course! If your irony detector was on, then the first sentence of this paragraph makes complete sense. If you don't know what [irony](https://youtu.be/Jne9t8sHpUc) is, [look it up](https://www.merriam-webster.com/dictionary/irony) and then re-read.\n",
    "\n",
    "Of course, if you're reading this then I'm assuming you're a psychology student, since that is who I'm writing this book for. I assume that you're sincerely interested in psychological science, and possibly contributing to it. Hopefully you already know that psychological science depends on statistics for making sense of data, and know a bit about how statistics work. Hopefully you also know that Python is a general purpose computer language that can be usful for data analysis and other things - the kinds of things that psychologists sometimes have to do. If you do not know any of these things, that's OK too. You can still read the book, because it will help you learn a bit about psychology, statistics, and Python (from least to most).\n",
    "\n",
    "The purpose of this book is to help psychology students, who may have limited technical backgrounds, get started with programming in Python. It was written an eye towards facilitating an understanding the language and how it works, but also providing some practical \"recipes\" that can be copied and pasted and used with minimal changes to the code. This book has educational content, but is not itself a reference manual - those exist already. When you're finished with this book, hopefully you don't ever have to come back to it ever again. Hopefully you have enough skill with Python for you to tackle projects on your own.\n",
    "\n",
    "```{note}\n",
    "\"You're smart. You'll figure it out\" - Daniel T. Levin (my graduate school advisor)\n",
    "```\n",
    "\n",
    "## Why Statistics?\n",
    "\n",
    "Like so many other terms, the term *statistics* means different things in different contexts. Here, statistics refers to methods for making sense of data. Sometimes *statistics* will be used to refer to numbers that were produced using the methods for making sense of data. So, statistics (numbers) are produced using statistics (methods for analyzing data). In San Francisco, statistics (methods for analyzing data) is referred to as *data science*. I'm sure someone somewhere has better definitions than these, but these will work for now.\n",
    "\n",
    "To address the question that this section is supposed to address, we need to study statistics because numbers don't speak for themselves. Quite the contrary, there are few things in life less satisfying than looking at a document full of numbers (and nothing else) and trying to figure out what the numbers mean. If numbers \"spoke for themselves\", we could just open spreadsheets and \"listen\", which of course does not work. At the very least, we need to know what the numbers refer to - are these measurments of some quantity, such as weight or time? Or are the numbers being used as labels, kind of like a number on a jersey? Of course, the data might not be numeric at all, but might be letters. Knowing what the \"numbers\" represent is hardly ever sufficient though. Knowing that 1 = dog and 2 = cat doesn't really do much to help make sense of a list of numbers like 1,2,2,2,1,1,2,2... especially when there are a lot of numbers to examine. \n",
    "\n",
    "There are of course many other questions one could ask about the data. Are there patterns in the data? Are there subgroups? Is there anything \"actionable\"? (etc., etc., *ad infinitum*). These questions are in fact what makes data analysis interesting.  And what are many of the most interesting questions about? If you're reading this, I hope you think the most interesting questions are about thinking and behavior, i.e. psychology.\n",
    "\n",
    "For now then, the main point of this subsection is that asking and answering questions about data requires statistical procedures. Numbers do not speak for themselves. Rather, statistics provides a set of tools we can use to (try and) find out what the numbers might say if they could speak.\n",
    "\n",
    "So why do psychology students study statistics? Quite simply because statistics are necessary in order for psychologists to understand data. Given the aims of this book, coverage of statistics will be limited - but statistical concepts will be explained, and implemented using Python 3.\n",
    "\n",
    "\n",
    "## Why Python?\n",
    "\n",
    "\n",
    "We need a way to do calculations on a computer since hand calculations are way too cumbersome. There are many options for the would-be psychology student who needs to do a bit of statistics too. A lot of them don't even require learning (much) computer programing - users can simply point and click their way to whatever output is needed. The problem with such what-you-see-is-what-you-get (WYSIWYG) applications is that it can make reproducability unecessarily difficult. This is problematic because one of the cornerstones of science is that researchers should be able to reproduce each others' results: given the same data, researchers should at the very least be able to compute the same numbers following the same procedures. With a WYSIWYG applications, reproducing an analysis would mean following the same click path and making sure the same options are selected for the various options one has to check while going through the click path. There's nothing wrong with that, except that errors are easy to make and hard to find. It's actually much easier to share code that has all of the important information about the analysis procedure in the code itself, and since the code can be examined and re-examined, errors should be easier to find. Of course, one has to learn at least one computer language to benefit from writing scripts.\n",
    "\n",
    "There multiple languages that can be used for statistics. Technically, any computer language that can do basic arithmetic can be used for statistics, but some languages make it easier than others. In fact SAS and R were both designed for statistics, and are both widely used by psychologists. R is even free, and has an easy-to-use integrated development environment called R-studio. The main limitation with R is that it's use is almost completely restricted to data analysis (this is of course, not strictly true). What if, like me, you occasionally need to use a computer to write programs to present stimuli and collect data? Well, Python works well for presenting stimuli and collecting data **and** is also pretty good for data analysis (including numerical summaries, hypothesis testing, machine learning, visualization, etc.). It's also [well documented](https://docs.python.org/3/index.html), which makes using it while learning it much easier.\n",
    "\n",
    "While the goal of this book is for students to have a solid understanding of Python, the book will not be an exhaustive account of how Python works. The text will of course explain some of the most important aspects of Python, but a lot will remain unacknowledged. By following the examples ion the text and fixing examples of inentionally broken code in the exercises, students should develop a solid [procedural memory](https://www.psychologytoday.com/us/basics/memory/procedural-memory) for Python, even if their [semantic memory](https://www.psychologytoday.com/us/basics/memory/semantic-memory) is full of holes. After all, as the vocabulary in the previous sentence should remind you, the aim of this book is to help students interested in doing better psychological science.\n",
    "\n",
    "## Why Anaconda?\n",
    "\n",
    "To keep things simple, everything in these tutorials will be written with the Anaconda Python Distribution in mind. There are many other options for working with Python code, and I'm not endorsing Anaconda over alternatives. The only reason I'm mentioning the issue here at all is so that the good people at Anaconda know I'm not endorsing them, but would be willing to if the price was right. In seriousness though, Anaconda makes it very easy to get up and running with Python.\n",
    "\n",
    "What is Anaconda? Complete the exercises below to find out!\n",
    "\n",
    "## Exercises\n",
    "\n",
    "### Exercise 1.1\n",
    "\n",
    "Go to [Anaconda's Website](https://www.anaconda.com/), download the installer for your operating system, and install the latest stable version of Anaconda! After you're done that, open Anaconda Navigator and come back here.\n",
    "\n",
    "### Excercise 1.2\n",
    "\n",
    "Let's get started with some code. You should have Anaconda installed at this point! \n",
    "1. Open Anaconda Navigator, and after some waiting (it can take a while) you should see a \"home\" screen with a bunch of applications. The two we'll be using most are Jupyter Notebook and Spyder. \n",
    "2. Open Jupyter Notebook. It will open in a Browser (like Firefox). From the \"New\" menu near the top right of the page, select Python 3 Notebook (.ipykernel). Copy the code below and paste it into your notebook. With the cell selected, press \"Run\" and watch the magic!"
   ]
  },
  {
   "cell_type": "code",
   "execution_count": 1,
   "id": "053e77fa",
   "metadata": {},
   "outputs": [
    {
     "name": "stdout",
     "output_type": "stream",
     "text": [
      "Hello World\n"
     ]
    }
   ],
   "source": [
    "print (\"Hello World\")"
   ]
  },
  {
   "cell_type": "markdown",
   "id": "c109924a",
   "metadata": {},
   "source": [
    "Congratulations! You've written (i.e. plagiarized) your first computer program in Python.\n",
    "\n",
    "Note that the rest of this book assumes you did the hard work of installing Anaconda on your computer! Part of working with open-source tools is reading through documentation and instructions, and web forums. So, if you haven't installed Anaconda and run the Hello World code, please do that before proceeding. Here's the link again in case you need it: [Anaconda's Website](https://www.anaconda.com/). If there is something basic, like how to open a file in Jupyter Notebook, you should try figuring it our on your own before asking how to do it. Why? Because it's absolutely impossible for me to anticipate all of the things that could possibly cause a problem. It's fine to ask questions, but be prepared to explain what you've tried already to solve the problem.\n",
    "\n",
    "The next chapter is about setting up and manipulating variables."
   ]
  },
  {
   "cell_type": "code",
   "execution_count": null,
   "id": "c3605caf",
   "metadata": {},
   "outputs": [],
   "source": []
  }
 ],
 "metadata": {
  "kernelspec": {
   "display_name": "Python 3 (ipykernel)",
   "language": "python",
   "name": "python3"
  },
  "language_info": {
   "codemirror_mode": {
    "name": "ipython",
    "version": 3
   },
   "file_extension": ".py",
   "mimetype": "text/x-python",
   "name": "python",
   "nbconvert_exporter": "python",
   "pygments_lexer": "ipython3",
   "version": "3.9.13"
  }
 },
 "nbformat": 4,
 "nbformat_minor": 5
}
