{
 "cells": [
  {
   "cell_type": "markdown",
   "id": "2ba60be1",
   "metadata": {},
   "source": [
    "# Chapter 2\n",
    "\n",
    "You should already have Anaconda Installed. Great. Now open a Jupyter Notebook, as we did at the end of chapter 1. In this chapter I'll show you some basic Python, and you can run it using your own Jupyter Notebook. Not everything here is intended to be practical for you in the future. Some of it will be, but mostly the purpose of this chapter is to familiarize yourself with Python 3.\n",
    "\n",
    "It's necessary to discuss coding practices a bit. When writing code, it's useful to leave comments so that you and others can follow it! Comments are for human readers, and not code for the computer to execute. Below, are some comments and some actual code. If you hover your mouse over the right side of the box below, a *copy* button should appear; click it and copy the code, then paste it into your open Jupyter Notebook. (If you need to open a new cell, click the + icon near the top of the page, and make sure the cell is \"code\" (not \"markdown\", or \"Raw NBConvert\", or \"Heading\")."
   ]
  },
  {
   "cell_type": "code",
   "execution_count": 4,
   "id": "5c2c1ef0",
   "metadata": {},
   "outputs": [
    {
     "name": "stdout",
     "output_type": "stream",
     "text": [
      "The value of My Variable is 1.0\n"
     ]
    }
   ],
   "source": [
    "#anything after the hashtag is a comment, not code.\n",
    "#I'm setting up a variable called MyVariable\n",
    "MyVariable = 1.0\n",
    "\n",
    "#the statement below will show the output...\n",
    "print(\"The value of MyVariable is \" + (str(MyVariable)))"
   ]
  },
  {
   "cell_type": "markdown",
   "id": "1efe4e3d",
   "metadata": {},
   "source": [
    "This code doesn't do anything interesting. Notice the print statement at the end. This is necessary so we know that our \"program\" actually did something. In other Python development environments, the output of print statements may appear in different places, but print statements are still useful for developing and debugging. To make useful print statements, it's necessary to understand how variables work in Python 3. "
   ]
  },
  {
   "cell_type": "markdown",
   "id": "8ce9b20f",
   "metadata": {},
   "source": [
    "## Variables\n",
    "\n",
    "*Variables* are things that can vary. There are different kinds of variables (and different systems for categorizing variables!). \n",
    "\n",
    "### Assigning Values\n",
    "In Python, variables are assigned values using the equal sign (\"=\"). Here are a few different kinds of variables."
   ]
  },
  {
   "cell_type": "code",
   "execution_count": 7,
   "id": "e1f40a53",
   "metadata": {},
   "outputs": [
    {
     "name": "stdout",
     "output_type": "stream",
     "text": [
      "1\n",
      "1.0\n",
      "One\n",
      "True\n"
     ]
    }
   ],
   "source": [
    "MyInt = 1 #an integer\n",
    "MyFloat = 1.0 #a floating point number\n",
    "MyString = \"One\" #a character string, so this is not numerical\n",
    "MyBool = True #Bool, could also have been False\n",
    "\n",
    "print(MyInt)\n",
    "print(MyFloat)\n",
    "print(MyString)\n",
    "print(MyBool)"
   ]
  },
  {
   "cell_type": "markdown",
   "id": "651295cb",
   "metadata": {},
   "source": [
    "### Checking Type\n",
    "Notice that the variables are different types: an integer, or number with no decimal; a floating point number, which has a decimal; a string, which is characters; and a boolean variable. We can check the type of variable using the *type* function."
   ]
  },
  {
   "cell_type": "code",
   "execution_count": 8,
   "id": "3ae0fd62",
   "metadata": {},
   "outputs": [
    {
     "name": "stdout",
     "output_type": "stream",
     "text": [
      "<class 'int'>\n",
      "<class 'float'>\n",
      "<class 'str'>\n",
      "<class 'bool'>\n"
     ]
    }
   ],
   "source": [
    "MyInt = 1 #an int\n",
    "MyFloat = 1.0 #a floating point number\n",
    "MyString = \"One\" #a character string, so this is not numerical\n",
    "MyBool = True #Bool, could also have been False\n",
    "\n",
    "print(type(MyInt))\n",
    "print(type(MyFloat))\n",
    "print(type(MyString))\n",
    "print(type(MyBool))"
   ]
  },
  {
   "cell_type": "markdown",
   "id": "43b667c0",
   "metadata": {},
   "source": [
    "It is very important to keep track of what type of variables you're working with, because different variable types do different things. We won't go into an exhaustive list of any such thing here, but an example will do. Take the operator for addition. When you add numbers (ints and floats), the result are different than if you add strings. See example below."
   ]
  },
  {
   "cell_type": "code",
   "execution_count": 9,
   "id": "6485ec99",
   "metadata": {},
   "outputs": [
    {
     "name": "stdout",
     "output_type": "stream",
     "text": [
      "3.0\n",
      "1.02.0\n"
     ]
    }
   ],
   "source": [
    "MyNumber = 1.0\n",
    "MyOtherNumber = 2.0\n",
    "MyString = \"1.0\" #Notice that by putting the 1.0 in quotes, it becomes a string.\n",
    "MyOtherString = \"2.0\"\n",
    "\n",
    "print(MyNumber + MyOtherNumber)\n",
    "print(MyString + MyOtherString)"
   ]
  },
  {
   "cell_type": "markdown",
   "id": "a2a6d05a",
   "metadata": {},
   "source": [
    "That's just an example. Since we will be focusing on data analysis, we'll focus on some basic mathematical operations here.  [Here](https://www.tutorialspoint.com/python/python_operators.htm) is a link to a more comprehensive list of operators in Python.\n",
    "\n",
    "### Updating and changing values\n",
    "Python executes lines of code in order, top to bottom. (Though, with some programming styles, it doesn't always seem that way)."
   ]
  },
  {
   "cell_type": "code",
   "execution_count": 12,
   "id": "8548dad4",
   "metadata": {},
   "outputs": [
    {
     "name": "stdout",
     "output_type": "stream",
     "text": [
      "2.0\n",
      "1.0\n"
     ]
    }
   ],
   "source": [
    "x1 = 1.0\n",
    "x2 = x1\n",
    "x1 += x1 #you can use plus-equal to add a variable to itself. Works with -= and *= too.\n",
    "print(x1)#Can you figure out why these print statements have the output they do?\n",
    "print(x2)"
   ]
  },
  {
   "cell_type": "markdown",
   "id": "df1b3cd8",
   "metadata": {},
   "source": [
    "In the example above, we assigned x2 the value of x1. Next we updated the value of x1, and printed the value of each variable. x1 was initially equal to 1, but we added it to itself so what printed was 2.0. x2 was never updated though; it was assigned the value of x1 when x1 was 1, so x2 equals 1. If you had some reason to make sure that x2 updated when x1 does, what could you do?"
   ]
  },
  {
   "cell_type": "markdown",
   "id": "bf4aa270",
   "metadata": {},
   "source": [
    "## Basic Arithmetic Operators\n",
    "\n",
    "The section above snuck in some novel arithmetic operators. In this secion, let's look at a few more standard ones. The code block below is larger, but you can copy it and run it in your own notebook. It shows addition, subtraction, multiplication, exponentiation, and division for floating point numbers and integers."
   ]
  },
  {
   "cell_type": "code",
   "execution_count": 14,
   "id": "7cc0d93b",
   "metadata": {},
   "outputs": [
    {
     "name": "stdout",
     "output_type": "stream",
     "text": [
      "Addition results:\n",
      "3.0\n",
      "3\n",
      "\n",
      "Subtraction results:\n",
      "-1.0\n",
      "-1\n",
      "\n",
      "Multiplication results:\n",
      "2.0\n",
      "2\n",
      "\n",
      "Exponentiation results:\n",
      "4.0\n",
      "4\n",
      "\n",
      "Division results:\n",
      "0.5\n",
      "0.5\n"
     ]
    }
   ],
   "source": [
    "#the assignment operator is =, set up two floats and two ints\n",
    "x = 1.0\n",
    "y = 2.0\n",
    "\n",
    "xi = 1\n",
    "yi = 2\n",
    "\n",
    "#store result of addition as new variable and then print\n",
    "additionFloat = x + y\n",
    "additionInteger = xi + yi\n",
    "print(\"Addition results:\")\n",
    "print(additionFloat)\n",
    "print(additionInteger)\n",
    "\n",
    "#store result of subtraction as new variable and then print\n",
    "print(\"\\nSubtraction results:\")\n",
    "subtractionFloat = x - y\n",
    "subtractionInteger = xi - yi\n",
    "print(subtractionFloat)\n",
    "print(subtractionInteger)\n",
    "\n",
    "#store result of multiplication as new variable and then print\n",
    "multFloat = x * y\n",
    "multInteger = xi * yi\n",
    "print(\"\\nMultiplication results:\")\n",
    "print(multFloat)\n",
    "print(multInteger)\n",
    "\n",
    "#store result of exponents as new variable and then print\n",
    "expFloat = y**2\n",
    "expInteger = yi**2\n",
    "print(\"\\nExponentiation results:\")\n",
    "print(expFloat)\n",
    "print(expInteger)\n",
    "\n",
    "#store result of division as new variable and then print\n",
    "divFloat = x / y\n",
    "divInteger = xi / yi\n",
    "print(\"\\nDivision results:\")\n",
    "print(divFloat)\n",
    "print(divInteger)"
   ]
  },
  {
   "cell_type": "markdown",
   "id": "0668a084",
   "metadata": {},
   "source": [
    "With Python 3, the float/int distinction isn't as important as it used to be, but note that sometimes the difference has implcations for computation. Notice (with the division results) that with Python 3, integers are converted to floating point numbers when the result of integer division results in a floating point. Floating point numbers are usually safe, at least for most of what psychologists need.\n",
    "\n",
    "### Modulo: A cool operator you may not be familiar with\n",
    "Finally, a few more useful basic operators: the modulo operator (%). This will return the remainder of a division, so 5%4 will return 1, 6%4 returns two, 7%4 returns 3, and 8%4 returns 0. . This is actually very useful for making sure that things are checked cyclically, e.g. that a computer monitor updates every 10 frames."
   ]
  },
  {
   "cell_type": "code",
   "execution_count": 3,
   "id": "57f1652d",
   "metadata": {},
   "outputs": [
    {
     "name": "stdout",
     "output_type": "stream",
     "text": [
      "1.0\n"
     ]
    }
   ],
   "source": [
    "#The modulo operator returns the remainder of a division,\n",
    "MyModulo = 5.0%4\n",
    "print(MyModulo)"
   ]
  },
  {
   "cell_type": "markdown",
   "id": "bc5e6ba8",
   "metadata": {},
   "source": [
    "## Comparison operators\n",
    "\n",
    "Sometimes you need to compare two values. Comparison operators do this, and return a boolean. Note also that the booleans had to be converted to strings in order for the print statments to work, so the comparison operators themselves are presented in a way that doesn't match how they are used. Typically, comparison operators are useful for controling the flow of a program using if/else, while, and other statements in Python. "
   ]
  },
  {
   "cell_type": "code",
   "execution_count": 35,
   "id": "70912d43",
   "metadata": {},
   "outputs": [
    {
     "name": "stdout",
     "output_type": "stream",
     "text": [
      "x == y: False\n",
      "x != y: True\n",
      "x > y: False\n",
      "x < y: True\n",
      "x >= y: False\n",
      "x <= y: True\n"
     ]
    }
   ],
   "source": [
    "x = 1.0\n",
    "y = 2.0\n",
    "\n",
    "#had to convert bool to str\n",
    "equal = str(x==y) # check if two things are equal ==\n",
    "notequal = str(x!=y)# check if two things not equal !=\n",
    "greater = str(x>y)# greater than >\n",
    "less = str(x<y)#less than <\n",
    "greaterequal = str(x>=y)# greater or equal\n",
    "lessequal = str(x<=y)#less or equal\n",
    "\n",
    "print (\"x == y: \" + equal)\n",
    "print (\"x != y: \" + notequal)\n",
    "print (\"x > y: \" + greater)\n",
    "print (\"x < y: \" + less)\n",
    "print (\"x >= y: \" + greaterequal)\n",
    "print (\"x <= y: \" + lessequal)"
   ]
  },
  {
   "cell_type": "markdown",
   "id": "4be98cdd",
   "metadata": {},
   "source": [
    "Variables are incredibly important, and it will be worth your time to become familiar with variable types and how each works in Python. What has been presented here is a start, hopefully enough so you can follow the intructions at websites like Tutorials Point or the official Python documentation."
   ]
  }
 ],
 "metadata": {
  "kernelspec": {
   "display_name": "Python 3 (ipykernel)",
   "language": "python",
   "name": "python3"
  },
  "language_info": {
   "codemirror_mode": {
    "name": "ipython",
    "version": 3
   },
   "file_extension": ".py",
   "mimetype": "text/x-python",
   "name": "python",
   "nbconvert_exporter": "python",
   "pygments_lexer": "ipython3",
   "version": "3.9.13"
  }
 },
 "nbformat": 4,
 "nbformat_minor": 5
}
