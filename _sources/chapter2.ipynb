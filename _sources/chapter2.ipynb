{
 "cells": [
  {
   "cell_type": "markdown",
   "id": "2ba60be1",
   "metadata": {},
   "source": [
    "# Chapter 2: Variables and Operators\n",
    "\n",
    "If you followed along in Chapter 1, you have Anaconda installed already. Now open a Jupyter Notebook, as we did at the end of chapter 1. In this chapter I'll show you some basic Python, and you can run it using your own Jupyter Notebook. Not everything in this chapter is intended to be practical for you in the future. Some of it will be, but mostly the purpose of this chapter is to familiarize yourself with Python 3.\n",
    "\n",
    "It's necessary to discuss coding practices a bit. When writing code, it's useful to leave comments so that you and others can follow it! Comments are for human readers, so the rules are much more flexible than code for the computer to execute. Below, are some comments and some actual code. If you hover your mouse over the right side of the box below, a *copy* button should appear; click it and copy the code, then paste it into your open Jupyter Notebook. (If you need to open a new cell, click the + icon near the top of the page, and make sure the cell is \"code\" (not \"markdown\", or \"Raw NBConvert\", or \"Heading\")."
   ]
  },
  {
   "cell_type": "code",
   "execution_count": 1,
   "id": "5c2c1ef0",
   "metadata": {},
   "outputs": [
    {
     "name": "stdout",
     "output_type": "stream",
     "text": [
      "The value of MyVariable is 1.0\n"
     ]
    }
   ],
   "source": [
    "#anything after the hashtag is a comment, not code.\n",
    "#I'm setting up a variable called MyVariable\n",
    "MyVariable = 1.0\n",
    "\n",
    "#the statement below will show the output...\n",
    "print(\"The value of MyVariable is \" + (str(MyVariable)))"
   ]
  },
  {
   "cell_type": "markdown",
   "id": "1efe4e3d",
   "metadata": {},
   "source": [
    "This code doesn't do anything interesting, but it's worth studying. Notice the print statement at the end of the code block. This is necessary so we know that our \"program\" actually did something. In other Python development environments, the output of print statements may appear in different places, but print statements are still useful for developing and debugging. In Jupyter Notebooks, print statements output simply appears below the block of code. We'll see plenty of print statements in the future, and when you start your own projects, you'll certainly use them too."
   ]
  },
  {
   "cell_type": "markdown",
   "id": "8ce9b20f",
   "metadata": {},
   "source": [
    "## Variables\n",
    "\n",
    "In psychology and statistics, *variables* are things that can vary. In Python, variables store values in computer memory. Although these definitions are technically different, it won't hurt us for current intents and purposes to simply go with the definition of *variable* from psychology, since that definition works with Python too, even if it's not quite technically precise. The value for a particular variable in Python can be one of many different types too. It's way beyhond the scope of this book to get into all of the different ways numbers can be represented on a computer, so I'll stick with the types that I use most often for analyzing data. Of course, it's helpful to have some variables set up first, which is very easy to do in Python.\n",
    "\n",
    "### Assigning Values For Different Data Types\n",
    "In Python, variables are assigned values using the equal sign (\"=\"). Here are a few different kinds of variables. You can copy and paste the code below into your own notebook if you like. There are different types of variables, and in the box below I've set up four variables for four different data types."
   ]
  },
  {
   "cell_type": "code",
   "execution_count": 7,
   "id": "e1f40a53",
   "metadata": {},
   "outputs": [
    {
     "name": "stdout",
     "output_type": "stream",
     "text": [
      "1\n",
      "1.0\n",
      "One\n",
      "True\n"
     ]
    }
   ],
   "source": [
    "MyInt = 1 #an integer\n",
    "MyFloat = 1.0 #a floating point number\n",
    "MyString = \"One\" #a character string, so this is not numerical\n",
    "MyBool = True #Bool, could also have been False\n",
    "\n",
    "print(MyInt)\n",
    "print(MyFloat)\n",
    "print(MyString)\n",
    "print(MyBool)"
   ]
  },
  {
   "cell_type": "markdown",
   "id": "651295cb",
   "metadata": {},
   "source": [
    "### Checking Type\n",
    "Notice that the variables are different types: 1) an integer, or number with no decimal; 2) a floating point number, which has a decimal; 2) a string, which is alphabeting characters; and 4) a boolean variable. Notice that in Python, variables of different types are set up the same way (using =). This means that it's sometimes necessary to check the type of a variable, which can be done using the *type* function."
   ]
  },
  {
   "cell_type": "code",
   "execution_count": 8,
   "id": "3ae0fd62",
   "metadata": {},
   "outputs": [
    {
     "name": "stdout",
     "output_type": "stream",
     "text": [
      "<class 'int'>\n",
      "<class 'float'>\n",
      "<class 'str'>\n",
      "<class 'bool'>\n"
     ]
    }
   ],
   "source": [
    "MyInt = 1 #an int\n",
    "MyFloat = 1.0 #a floating point number\n",
    "MyString = \"One\" #a character string, so this is not numerical\n",
    "MyBool = True #Bool, could also have been False\n",
    "\n",
    "print(type(MyInt))\n",
    "print(type(MyFloat))\n",
    "print(type(MyString))\n",
    "print(type(MyBool))"
   ]
  },
  {
   "cell_type": "markdown",
   "id": "43b667c0",
   "metadata": {},
   "source": [
    "It is very important to keep track of what type of variables you're working with, because different variable types do different things. We won't go into an exhaustive list of any such thing here, but an example will do. Take the operator for addition. When you add numbers (ints and floats), the result are different than if you add strings. See example below."
   ]
  },
  {
   "cell_type": "code",
   "execution_count": 9,
   "id": "6485ec99",
   "metadata": {},
   "outputs": [
    {
     "name": "stdout",
     "output_type": "stream",
     "text": [
      "3.0\n",
      "1.02.0\n"
     ]
    }
   ],
   "source": [
    "MyNumber = 1.0\n",
    "MyOtherNumber = 2.0\n",
    "MyString = \"1.0\" #Notice that by putting the 1.0 in quotes, it becomes a string.\n",
    "MyOtherString = \"2.0\"\n",
    "\n",
    "print(MyNumber + MyOtherNumber)\n",
    "print(MyString + MyOtherString)"
   ]
  },
  {
   "cell_type": "markdown",
   "id": "a2a6d05a",
   "metadata": {},
   "source": [
    "Notice that when the numbers (floating point numbers in this case) are added, the result is what you'd expect\" 1 + 2 = 3. However, when the \"numbers\" are stored as string variables, the + operator cannot do addition, but instead does string concatenation: the strings are linked together to form a single string, sometimes referred to as \"string addition\"\n",
    "\n",
    "[Here](https://www.tutorialspoint.com/python/python_operators.htm) is a link to a more comprehensive list of operators in Python.\n",
    "\n",
    "You might be asking yourself: why are there seperate integers and floating point numbers? Why not just represent all numbers as numbers? That's actually a good question, and there is a good answer that requires getting into how computers encode numbers and many other things that honestly, I don't know that much about. There are situations in which using an int instead of a float can cause problems, and vice versa. In analyzing data for psychology research, it's usually OK to just use floating point numbers instead of ints. This issue is one that you should be aware of, especially if you encounter a situation where the distinction is important - which could happen if you get enough experience analyzing data.\n",
    "\n",
    "### Updating and changing values\n",
    "When a variable is declared in Python, a place in memory is reserved for the value, but the value itself is often changeable, or *mutable*. In fact, it's common to update or otherwise change the value of a variable as a script executes. Python executes lines of code in order, top to bottom. (Though, with some programming styles, it doesn't always seem that way). So what happens as we assign and then change values of variables? Read the code below, and the output, to see (you can copy and paste into your own notebook if you want as well)."
   ]
  },
  {
   "cell_type": "code",
   "execution_count": 5,
   "id": "8548dad4",
   "metadata": {},
   "outputs": [
    {
     "name": "stdout",
     "output_type": "stream",
     "text": [
      "x1 =  1.0\n",
      "x2 = 1.0\n",
      "\n",
      "After update\n",
      "x1 =  2.0\n",
      "x2 = 1.0\n"
     ]
    }
   ],
   "source": [
    "x1 = 1.0 #assigns x1 to the float 1.0\n",
    "print(\"x1 =  \" + str(x1))\n",
    "x2 = x1 #assins x2 to be equal to x1\n",
    "print(\"x2 = \" + str(x2))\n",
    "x1 += x1 #this line updates x1 by adding x1 to itself. plus-equal += adds a variable to itself. Works with -= and *= too.\n",
    "print (\"\\nAfter update\")\n",
    "print(\"x1 =  \" + str(x1))#Can you figure out why these print statements have the output they do?\n",
    "print(\"x2 = \" + str(x2))"
   ]
  },
  {
   "cell_type": "markdown",
   "id": "df1b3cd8",
   "metadata": {},
   "source": [
    "In the example above, we assigned x2 the value of x1. Next we updated the value of x1, and printed the value of each variable. x1 was initially equal to 1, but we added it to itself so what printed was 2.0. x2 was never updated though; it was assigned the value of x1 when x1 was 1, so x2 equals 1. If you had some reason to make sure that x2 updated when x1 does, what could you do?"
   ]
  },
  {
   "cell_type": "markdown",
   "id": "bf4aa270",
   "metadata": {},
   "source": [
    "## Basic Arithmetic Operators\n",
    "\n",
    "The section above snuck in some novel arithmetic operators. In this secion, let's look at a few more standard ones. The code block below is larger, but you can copy it and run it in your own notebook. It shows addition, subtraction, multiplication, exponentiation, and division for floating point numbers and integers. This block of code is longer than others so far, so it may take you a little longer to examine the relationship between the input and the output. If you're not familiar with Python, take the time to study how different sections of code are related to each other, and to the outout."
   ]
  },
  {
   "cell_type": "code",
   "execution_count": 1,
   "id": "7cc0d93b",
   "metadata": {},
   "outputs": [
    {
     "name": "stdout",
     "output_type": "stream",
     "text": [
      "Addition results:\n",
      "3.0\n",
      "3\n",
      "\n",
      "Subtraction results:\n",
      "-1.0\n",
      "-1\n",
      "\n",
      "Multiplication results:\n",
      "2.0\n",
      "2\n",
      "\n",
      "Exponentiation results:\n",
      "4.0\n",
      "4\n",
      "\n",
      "Division results:\n",
      "0.5\n",
      "0.5\n"
     ]
    }
   ],
   "source": [
    "#the assignment operator is =, set up two floats and two ints\n",
    "x = 1.0\n",
    "y = 2.0\n",
    "\n",
    "xi = 1\n",
    "yi = 2\n",
    "\n",
    "#store result of addition as new variable and then print\n",
    "additionFloat = x + y\n",
    "additionInteger = xi + yi\n",
    "print(\"Addition results:\")\n",
    "print(additionFloat)\n",
    "print(additionInteger)\n",
    "\n",
    "#store result of subtraction as new variable and then print\n",
    "print(\"\\nSubtraction results:\")\n",
    "subtractionFloat = x - y\n",
    "subtractionInteger = xi - yi\n",
    "print(subtractionFloat)\n",
    "print(subtractionInteger)\n",
    "\n",
    "#store result of multiplication as new variable and then print\n",
    "multFloat = x * y\n",
    "multInteger = xi * yi\n",
    "print(\"\\nMultiplication results:\")\n",
    "print(multFloat)\n",
    "print(multInteger)\n",
    "\n",
    "#store result of exponents as new variable and then print\n",
    "expFloat = y**2\n",
    "expInteger = yi**2\n",
    "print(\"\\nExponentiation results:\")\n",
    "print(expFloat)\n",
    "print(expInteger)\n",
    "\n",
    "#store result of division as new variable and then print\n",
    "divFloat = x / y\n",
    "divInteger = xi / yi\n",
    "print(\"\\nDivision results:\")\n",
    "print(divFloat)\n",
    "print(divInteger)"
   ]
  },
  {
   "cell_type": "markdown",
   "id": "0668a084",
   "metadata": {},
   "source": [
    "### Modulo: A cool operator you may not be familiar with\n",
    "And one more useful operator: the modulo operator (%). This will return the remainder of a division, so 5%4 will return 1, 6%4 returns two, 7%4 returns 3, and 8%4 returns 0. This is actually very useful for making sure that things are checked cyclically, e.g. that a computer monitor updates every 10 frames."
   ]
  },
  {
   "cell_type": "code",
   "execution_count": 3,
   "id": "57f1652d",
   "metadata": {},
   "outputs": [
    {
     "name": "stdout",
     "output_type": "stream",
     "text": [
      "1.0\n"
     ]
    }
   ],
   "source": [
    "#The modulo operator returns the remainder of a division,\n",
    "MyModulo = 5.0%4\n",
    "print(MyModulo)"
   ]
  },
  {
   "cell_type": "markdown",
   "id": "bc5e6ba8",
   "metadata": {},
   "source": [
    "## Comparison operators\n",
    "\n",
    "Sometimes you need to compare two values. Comparison operators do this, and return a boolean (true/false). Note also that the booleans had to be converted to strings in order for the print statments to work, so the comparison operators themselves are presented in a way that doesn't match how they are used. Typically, comparison operators are useful for controling the flow of a program using if/else, while, and elif statements in Python, all of which we'll cover in a later chapter. Here, the focus is on comparing two values, here referred to as x and y. "
   ]
  },
  {
   "cell_type": "code",
   "execution_count": 35,
   "id": "70912d43",
   "metadata": {},
   "outputs": [
    {
     "name": "stdout",
     "output_type": "stream",
     "text": [
      "x == y: False\n",
      "x != y: True\n",
      "x > y: False\n",
      "x < y: True\n",
      "x >= y: False\n",
      "x <= y: True\n"
     ]
    }
   ],
   "source": [
    "x = 1.0\n",
    "y = 2.0\n",
    "\n",
    "#had to convert bool to str and store the result as a variable\n",
    "equal = str(x==y) # check if two things are equal ==\n",
    "notequal = str(x!=y)# check if two things not equal !=\n",
    "greater = str(x>y)# greater than >\n",
    "less = str(x<y)#less than <\n",
    "greaterequal = str(x>=y)# greater or equal\n",
    "lessequal = str(x<=y)#less or equal\n",
    "\n",
    "print (\"x == y: \" + equal)\n",
    "print (\"x != y: \" + notequal)\n",
    "print (\"x > y: \" + greater)\n",
    "print (\"x < y: \" + less)\n",
    "print (\"x >= y: \" + greaterequal)\n",
    "print (\"x <= y: \" + lessequal)"
   ]
  },
  {
   "cell_type": "markdown",
   "id": "4be98cdd",
   "metadata": {},
   "source": [
    "## Exercises\n",
    "Variables and operators are incredibly important, and it will be worth your time to become familiar with these work in Python. What has been presented here is a start, hopefully enough so you can follow the intructions at websites like [Tutorialspoint](https://www.tutorialspoint.com/python3/index.htm) or the official [Python documentation](https://www.python.org/doc/).\n",
    "\n",
    "The following exercises contain broken code. The comments will tell you what the output should be. Copy and run the code in your own Jupyter Notebook. Change it until it works! For these excercises, each cell is intended to \"stand on it's own\", so don't worry about saving code from Exercise 2.1 for Excercise 2.2.\n",
    "\n",
    "### Exercise 2.1"
   ]
  },
  {
   "cell_type": "code",
   "execution_count": 2,
   "id": "f7871bda",
   "metadata": {},
   "outputs": [
    {
     "name": "stdout",
     "output_type": "stream",
     "text": [
      "34\n"
     ]
    }
   ],
   "source": [
    "#The following code should print the results of adding two numbers, 3 and 4. The result should be 7, not 34.\n",
    "x = \"3\"\n",
    "y = \"4\"\n",
    "print(x + y)"
   ]
  },
  {
   "cell_type": "markdown",
   "id": "0d79af29",
   "metadata": {},
   "source": [
    "### Exercise 2.2"
   ]
  },
  {
   "cell_type": "code",
   "execution_count": 5,
   "id": "d12c1709",
   "metadata": {},
   "outputs": [
    {
     "name": "stdout",
     "output_type": "stream",
     "text": [
      "The value of z is equal toz\n"
     ]
    }
   ],
   "source": [
    "#This code should print something like \"The value of z is equal to 7\"\n",
    "#Change the code so that it will print out the sum of x and y no matter what their values are.\n",
    "x = 3\n",
    "y = 4\n",
    "z = x + y\n",
    "print(\"The value of z is equal to\" + \"z\")"
   ]
  },
  {
   "cell_type": "markdown",
   "id": "283809a9",
   "metadata": {},
   "source": [
    "### Exercise 2.3"
   ]
  },
  {
   "cell_type": "code",
   "execution_count": 9,
   "id": "3bc51635",
   "metadata": {},
   "outputs": [
    {
     "name": "stdout",
     "output_type": "stream",
     "text": [
      "2\n"
     ]
    }
   ],
   "source": [
    "#Help Ms. Frizzle figure out how many children she lost when the Magic School Bus crashed.\n",
    "#She knows how many children she had on the bus at first. \n",
    "#She does not know how many body bags were returned\n",
    "#But she knows each bag was full, with the exact number of bodies it could hold, no more no less.\n",
    "#Are there any missing children? The bags can't be opened.\n",
    "#Replace exactly one character in the code below to find out how many missing kids Ms. Frizzle might need to find...\n",
    "\n",
    "NumberAtStart = 80 #There were 80 children on the Magic School Bus. Now they are missing\n",
    "FullBagsReturned = int() #unknown!!!\n",
    "NumberBodyPerBag = 6 #Each bodybag holds 6 bodies. and each bag was at capacity, no more no less.\n",
    "\n",
    "print(NumberAtStart/NumberBodyPerBag)"
   ]
  },
  {
   "cell_type": "markdown",
   "id": "ef78360d",
   "metadata": {},
   "source": [
    "### Exercise 2.4"
   ]
  },
  {
   "cell_type": "code",
   "execution_count": 10,
   "id": "fcefbc7f",
   "metadata": {},
   "outputs": [
    {
     "ename": "NameError",
     "evalue": "name 'MyVariable' is not defined",
     "output_type": "error",
     "traceback": [
      "\u001b[1;31m---------------------------------------------------------------------------\u001b[0m",
      "\u001b[1;31mNameError\u001b[0m                                 Traceback (most recent call last)",
      "\u001b[1;32m~\\AppData\\Local\\Temp\\ipykernel_6020\\538939516.py\u001b[0m in \u001b[0;36m<module>\u001b[1;34m\u001b[0m\n\u001b[0;32m      2\u001b[0m \u001b[1;33m\u001b[0m\u001b[0m\n\u001b[0;32m      3\u001b[0m \u001b[0mmyVariable\u001b[0m \u001b[1;33m=\u001b[0m \u001b[1;34m\"Good\"\u001b[0m\u001b[1;33m\u001b[0m\u001b[1;33m\u001b[0m\u001b[0m\n\u001b[1;32m----> 4\u001b[1;33m \u001b[0mprint\u001b[0m\u001b[1;33m(\u001b[0m\u001b[0mMyVariable\u001b[0m\u001b[1;33m)\u001b[0m\u001b[1;33m\u001b[0m\u001b[1;33m\u001b[0m\u001b[0m\n\u001b[0m",
      "\u001b[1;31mNameError\u001b[0m: name 'MyVariable' is not defined"
     ]
    }
   ],
   "source": [
    "#The code below doesn't work! Fix it so the error goes away.\n",
    "\n",
    "myVariable = \"Good\"\n",
    "print(MyVariable)"
   ]
  }
 ],
 "metadata": {
  "kernelspec": {
   "display_name": "Python 3 (ipykernel)",
   "language": "python",
   "name": "python3"
  },
  "language_info": {
   "codemirror_mode": {
    "name": "ipython",
    "version": 3
   },
   "file_extension": ".py",
   "mimetype": "text/x-python",
   "name": "python",
   "nbconvert_exporter": "python",
   "pygments_lexer": "ipython3",
   "version": "3.9.13"
  }
 },
 "nbformat": 4,
 "nbformat_minor": 5
}
