{
 "cells": [
  {
   "cell_type": "markdown",
   "id": "46eebbe4",
   "metadata": {},
   "source": [
    "# Chapter 3: Lists, Dicts, and Loops\n",
    "\n",
    "Data sets have more than one value. As such, it's quite handy that Python has the ability to store sequences of values. In this chapter, I'll introduce *lists*, *dictionaries*, and *tuples*, all of which are different kinds of sequences. \n",
    "\n",
    "## Lists\n",
    "\n",
    "A *list* is a pretty basic data structure in Python. It's essentially a sequence of values contained in square brackets. While not the-be-all-end-all of data structures in Python, lists are incredibly useful. Understanding lists is not optional for Python programming. Below is an example list. "
   ]
  },
  {
   "cell_type": "code",
   "execution_count": 1,
   "id": "886ffb99",
   "metadata": {},
   "outputs": [
    {
     "name": "stdout",
     "output_type": "stream",
     "text": [
      "[1.0, 2.0, 3.0]\n"
     ]
    }
   ],
   "source": [
    "#Copy this code into your own Jupyter Notebook\n",
    "MyNumberList = [1.0,2.0,3.0]\n",
    "print(MyNumberList)"
   ]
  },
  {
   "cell_type": "markdown",
   "id": "e5077a3a",
   "metadata": {},
   "source": [
    "### Appending to a List\n",
    "Notice that the values in the list are all floating point numbers, but that's simply because we'll be working more with floating point numbers in future excercises. In Python, lists can contain of any sort of values though. Lists can even contain other lists.\n",
    "\n",
    "This list is a bit small so we can *append* a new value to it using the code below, which uses the .append() method. I'll have more to say about \"methods\" later. For now, just look at the syntax carefully - adding values to lists is common enough that you'll want to know how to do this!"
   ]
  },
  {
   "cell_type": "code",
   "execution_count": 3,
   "id": "2a7ee563",
   "metadata": {},
   "outputs": [
    {
     "name": "stdout",
     "output_type": "stream",
     "text": [
      "[1.0, 2.0, 3.0, 4.0]\n"
     ]
    }
   ],
   "source": [
    "#Copy this code into the same Jupyter Notebook you started already.\n",
    "MyNumberList.append(4.0)\n",
    "print(MyNumberList)"
   ]
  },
  {
   "cell_type": "markdown",
   "id": "31f8f494",
   "metadata": {},
   "source": [
    "### Slices\n",
    "We can have a look at only certain parts of the list, or a *slice*. Elements of a list are indexed numerically in the order they appear in the list from left to right, with the left most index starting at 0. Below are some ways to \"slice\" a list. Pay close attention to the numbers in the brackets, since these tell you what the slice will return. Keep in mind that the indexes start at 0, and not 1. The index of 1 is actually the second value in the list."
   ]
  },
  {
   "cell_type": "code",
   "execution_count": 15,
   "id": "ce3c6209",
   "metadata": {},
   "outputs": [
    {
     "name": "stdout",
     "output_type": "stream",
     "text": [
      "1.0\n",
      "2.0\n",
      "[1.0]\n",
      "[1.0, 2.0, 3.0]\n",
      "[2.0, 3.0]\n",
      "4.0\n",
      "[1.0, 2.0, 3.0]\n"
     ]
    }
   ],
   "source": [
    "#Copy this code into the same Jupyter Notebook you started already.\n",
    "print(MyNumberList[0]) #Will print the first value in the list.\n",
    "print(MyNumberList[1]) #Will print the second value in the list.\n",
    "print(MyNumberList[0:1]) #Will print the first value in the list, but in brackets this time.\n",
    "print(MyNumberList[0:3]) #Will print the 3 values in the list.\n",
    "print(MyNumberList[1:3]) #Will print second and third values in the list.\n",
    "print(MyNumberList[-1]) #Will print last value in the list.\n",
    "print(MyNumberList[:-1]) #Will print everything except the last value in the list."
   ]
  },
  {
   "cell_type": "markdown",
   "id": "182b24c1",
   "metadata": {},
   "source": [
    "There is a lot more that lists are good for, and we will definitely see them again in this book. Here's a [link](https://www.tutorialspoint.com/python3/python_lists.htm) to a more comprehensive resource that I like for some reason. "
   ]
  },
  {
   "cell_type": "markdown",
   "id": "478e0a05",
   "metadata": {},
   "source": [
    "## Dictionaries\n",
    "\n",
    "Dictionaries are data structures that come in key:value pairs. One way to think of dictionaries is a lists for which the key has to be specified. Keys are not automatically generated based on which values are further to the left or the right, but have to be specified when the dictionary is created or updated. For data analysis, it's often helpful to have the key for a value be something memorable, like a word. In Python, this would mean we use a string variable. The value can be whatever data we want associated with the word."
   ]
  },
  {
   "cell_type": "code",
   "execution_count": 20,
   "id": "0e9ac855",
   "metadata": {},
   "outputs": [
    {
     "name": "stdout",
     "output_type": "stream",
     "text": [
      "{'Name': 'DAV', 'FavNumb': 42.0, 'Single': False}\n",
      "DAV\n",
      "42.0\n"
     ]
    }
   ],
   "source": [
    "MyDictionary = {\"Name\":\"DAV\", \"FavNumb\": 42.0, \"Single\": False}\n",
    "print(MyDictionary)# will print the entire dictionary, keys and pairs\n",
    "print(MyDictionary[\"Name\"])#will print value associated with key \"Name\"\n",
    "print(MyDictionary[\"FavNumb\"])#will print value associated with key \"FavNumb\""
   ]
  },
  {
   "cell_type": "markdown",
   "id": "d6935487",
   "metadata": {},
   "source": [
    "Dictionaries are quite useful! Here is a [link](https://www.tutorialspoint.com/python3/python_dictionary.htm) with more information about what they can do!"
   ]
  },
  {
   "cell_type": "markdown",
   "id": "2049182f",
   "metadata": {},
   "source": [
    "### Lists and Dictionaries: A Match Made in Heaven\n",
    "\n",
    "It turns out that using strings for keys and lists for values is not only allowed in Python, but is also a pretty good way of representing data for analysis. The key can represent a variable name, much like first row/column headers of a spreadsheet. The value is a list with the data, much like the column of values below the headers in a spread sheet. Finally, the index for each entry in each list can also be used to index the units of observation, much like the rows in a spreadsheet index units of observation. It these ideas don't quite make sense to you yet, don't worry - we'll revisit this idea later - but here's an example."
   ]
  },
  {
   "cell_type": "code",
   "execution_count": 1,
   "id": "5b710c31",
   "metadata": {},
   "outputs": [
    {
     "name": "stdout",
     "output_type": "stream",
     "text": [
      "{'Name': ['Bill', 'Bob', 'Nina'], 'Weight': [23.0, 21.0, 22.0], 'Rating': [8, 6, 9]}\n",
      "['Bill', 'Bob', 'Nina']\n",
      "Bill\n",
      "23.0\n"
     ]
    }
   ],
   "source": [
    "MyDataDict = {\"Name\": [\"Bill\",\"Bob\",\"Nina\"],\"Weight\": [23.0,21.0,22.0],\"Rating\":[8,6,9]}\n",
    "print(MyDataDict)\n",
    "print(MyDataDict[\"Name\"])#Will print the Name list\n",
    "print(MyDataDict[\"Name\"][0])#Will print the first entry in the Name list\n",
    "print(MyDataDict[\"Weight\"][0])#Will print the first entry in the Weight list\n"
   ]
  },
  {
   "cell_type": "markdown",
   "id": "6dd8a618",
   "metadata": {},
   "source": [
    "Notice that \"Name\", \"Weight\", and \"Rating\" are each variable names, and each list has 3 values. in some situations, it would be perfectly reasonable to represent your data like this, with the index for each value in each list being attached to the same person, in this case 0 for Bill, 1 for Bob, and 2 for Nina."
   ]
  },
  {
   "cell_type": "markdown",
   "id": "7345a50a",
   "metadata": {},
   "source": [
    "## Loops for lists\n",
    "\n",
    "A loop allows a segment of code to execute over and over until some condition is met. *For* loops are useful for looping through lists and doing/checking something with each value in the list. For example, maybe you want to add a number to each number in a list and make a new list!\n",
    "\n",
    "### Updating/Creating New List\n",
    "#### For *something* in *somelist* "
   ]
  },
  {
   "cell_type": "code",
   "execution_count": 2,
   "id": "27ab4694",
   "metadata": {},
   "outputs": [
    {
     "name": "stdout",
     "output_type": "stream",
     "text": [
      "1.0\n",
      "2.0\n",
      "3.0\n",
      "4.0\n",
      "[2.0, 3.0, 4.0, 5.0]\n"
     ]
    }
   ],
   "source": [
    "MyNumberList = [1.0, 2.0, 3.0, 4.0] #A list!\n",
    "MyNumberListPlusOne = [] #An empty list to which we will add values\n",
    "\n",
    "# \"i\" is just a place holder, kind of like x in algebra.\n",
    "for i in MyNumberList:\n",
    "    print(i) #print statement here just so we can see the loop progressing, but this line isn't necessary\n",
    "    i += 1 # adds 1 to the value of the current element of the list being worked with\n",
    "    MyNumberListPlusOne.append(i) #Append the updated value to the new\n",
    "    \n",
    "print(MyNumberListPlusOne)\n"
   ]
  },
  {
   "cell_type": "markdown",
   "id": "281e36e2",
   "metadata": {},
   "source": [
    "#### For *something* in *the i-th position of somelist*\n",
    "\n",
    "Using a couple of built in Python functions, we can also loop through a list based on the indexes of values. The *len* function will return the length of a list, and the range function will return a list of numbers, starting with 0 and ending at the integer right before the specified number. WIth these, we can access and update each value in a list directly without creating a new list. Note that this can be risky in practice, especially if you accidentally make a mistake and lose the original list!"
   ]
  },
  {
   "cell_type": "code",
   "execution_count": 29,
   "id": "fa921abd",
   "metadata": {
    "collapsed": true
   },
   "outputs": [
    {
     "name": "stdout",
     "output_type": "stream",
     "text": [
      "Before loop: [1.0, 2.0, 3.0, 4.0]\n",
      "0\n",
      "1\n",
      "2\n",
      "3\n",
      "After loop: [2.0, 3.0, 4.0, 5.0]\n"
     ]
    }
   ],
   "source": [
    "MyNumberList = [1.0, 2.0, 3.0, 4.0] #A list! The same list as before, but I'm resetting it here.\n",
    "\n",
    "print(\"Before loop: \" + str(MyNumberList))\n",
    "\n",
    "#Loop accesses list values through the index within the list, which is denoted with i\n",
    "#Notice that the list values are being updated directly; we are not creating a new list here\n",
    "for i in range(len(MyNumberList)):\n",
    "    MyNumberList[i] += 1\n",
    "    \n",
    "print(\"After loop: \" + str(MyNumberList))"
   ]
  },
  {
   "cell_type": "markdown",
   "id": "8652fbfa",
   "metadata": {},
   "source": [
    "Which method for looping through a list is best, by accessing the indexes or not? Generally, it's easier to just use *for something in somelist* style to make a list, but if what you're doing depends on the position of the item within a list, then accessing items through using the *for something in the i-th position of somelist* method would be necessary.\n",
    "\n",
    "### Using List to Find Quantities\n",
    "Loops can also be useful for doing calculations that require all of the numbers in a list to obtain a single result. The loop below adds everything up."
   ]
  },
  {
   "cell_type": "code",
   "execution_count": 15,
   "id": "f2884a43",
   "metadata": {},
   "outputs": [
    {
     "name": "stdout",
     "output_type": "stream",
     "text": [
      "10.0\n"
     ]
    }
   ],
   "source": [
    "MyNumberList = [1.0, 2.0, 3.0, 4.0] #A list! The same list as before, but I'm resetting it here.\n",
    "NumberTotal = 0.0 # Need variable to store the results of the addition\n",
    "\n",
    "for i in MyNumberList:\n",
    "    NumberTotal += i\n",
    "    \n",
    "print(NumberTotal)"
   ]
  },
  {
   "cell_type": "markdown",
   "id": "1f8fc703",
   "metadata": {},
   "source": [
    "## Exercises\n",
    "Let's do some exercises.\n",
    "\n",
    "### Exercise 3.1"
   ]
  },
  {
   "cell_type": "code",
   "execution_count": 27,
   "id": "4840affc",
   "metadata": {},
   "outputs": [
    {
     "name": "stdout",
     "output_type": "stream",
     "text": [
      "G\n",
      "o\n",
      "o\n",
      "d\n",
      "a\n",
      "y\n",
      "m\n",
      "8\n"
     ]
    }
   ],
   "source": [
    "#The rules for slicing lists and strings are basically the same.\n",
    "#Print the 3rd, 16th, 18th, 25th, 50th, 63rd, 21st, and 80th in that order\n",
    "#What is the secret message?\n",
    "\n",
    "MyString = \"IJGUP&Vd sax I opoasmkxcd oiu   Piu oiooisn  kkjsas j nx aswzeyxDCV BHFRUY%Go7m8\"\n",
    "\n"
   ]
  },
  {
   "cell_type": "markdown",
   "id": "743d6428",
   "metadata": {},
   "source": [
    "### Exercise 3.2\n",
    "\n",
    "(more exercises to come)"
   ]
  }
 ],
 "metadata": {
  "kernelspec": {
   "display_name": "Python 3 (ipykernel)",
   "language": "python",
   "name": "python3"
  },
  "language_info": {
   "codemirror_mode": {
    "name": "ipython",
    "version": 3
   },
   "file_extension": ".py",
   "mimetype": "text/x-python",
   "name": "python",
   "nbconvert_exporter": "python",
   "pygments_lexer": "ipython3",
   "version": "3.9.13"
  }
 },
 "nbformat": 4,
 "nbformat_minor": 5
}
