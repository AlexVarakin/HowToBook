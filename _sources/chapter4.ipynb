{
 "cells": [
  {
   "cell_type": "markdown",
   "id": "f4f5e510",
   "metadata": {},
   "source": [
    "# Chapter 4: User-defined Functions and Built-in Modules\n",
    "\n",
    "A function is a block of reusable code. If you've been following along, you may recall seeing things like print(\"stuff\") in the code blocks. These are built in functions. Python has lots of useful built in functions - you can check them out [here](https://docs.python.org/3/library/functions.html). \n",
    "\n",
    "It's also very easy to create your own functions in Python. Here, we'll create a function to calculate a mean. Various Python libraries (covered in this and later chapters) have other, perhaps better methods for calculating a mean, so this function itself may not be useful beyhond a simple exercise for learning about user-defined functions in Python (which is good, because functions are indespensible). \n",
    "\n",
    "Sometimes it's easier to write your own functions than to search for the module or library that has whatever functionality you want (sometimes). But Python has some built in modules for things like ranomization, math, and statistics. Accessing them requires importing the modules, which we haven't discussed yet, but we'll go over some of the things that can these modules can do.\n",
    "\n",
    "## User-defined Function for The Mean\n",
    "I'm betting you know what a *mean* is: it's also commonly called an *average*. The mean is nice because it is a single number that captures the location of a set of numbers, and the mean can be precisely defined.\n",
    "\n",
    "If you have a variable x with a total of n observations, finding the mean involves first adding up all of the values of x, and then dividing the result of the summation by the number of things that were summed. That's quite a mouthful to say, but the equation expresses the idea much more succinctly. \n",
    "\n",
    "$$\n",
    "  \\mu = \\frac{\\Sigma_{i}x_i}{n}\n",
    "$$"
   ]
  },
  {
   "cell_type": "markdown",
   "id": "d30dc09b",
   "metadata": {},
   "source": [
    "The greek letter mu (\"myoo\", $\\mu$) stands for \"mean\", the big sigma $\\Sigma$ with the little i next to it means \"add everything up that's a little i and matches what's to the right\", the $x$ with the i indicates that the $x$'s are the things indexed with little i's that need to be added up. Again, that's a lot of words for something that can be so succinctly expressed using an equation.\n",
    "\n",
    "```{note}\n",
    "\"It is better to appreciate math than to live in fear of it.\" - Abe Lincoln (probably)\n",
    "```\n",
    "\n",
    "We need a few things: to add up all of the x's, to count the total number of x's, and to divide the sum by the total number.\n",
    "\n",
    "First, a function for adding up all the numbers."
   ]
  },
  {
   "cell_type": "code",
   "execution_count": 1,
   "id": "b55194c7",
   "metadata": {},
   "outputs": [
    {
     "name": "stdout",
     "output_type": "stream",
     "text": [
      "6\n"
     ]
    }
   ],
   "source": [
    "#When naming functions, it's important to avoid using reserved terms in Python\n",
    "#https://www.w3schools.com/python/python_ref_keywords.asp\n",
    "\n",
    "#def tells Python this will be a function\n",
    "#Note the use of indentation: it's important in Python\n",
    "# AddItUp is the name I gave the function (x) will be the name of the sequence passed to the function\n",
    "def AddItUp(x):\n",
    "    total = 0 #creates local variable that will only be usable inside this function\n",
    "    for i in x:#for loop that will add the value of each x\n",
    "        total += i\n",
    "    return total#functions need to return something, in this case we want to sum!\n",
    "\n",
    "#Create new variable, store in it the results of the new function.\n",
    "#The list [1,2,3] will become the \"x\"\n",
    "Summation = AddItUp([1.,2.,3.])\n",
    "\n",
    "print(Summation)"
   ]
  },
  {
   "cell_type": "markdown",
   "id": "1fe4e06a",
   "metadata": {},
   "source": [
    "We could also write a new function to count the number of items in a sequence, but Python has a built in function for that. So, we can just use that and write a new function to calculate our mean!"
   ]
  },
  {
   "cell_type": "code",
   "execution_count": 2,
   "id": "49e70195",
   "metadata": {},
   "outputs": [
    {
     "name": "stdout",
     "output_type": "stream",
     "text": [
      "2.0\n"
     ]
    }
   ],
   "source": [
    "#A function to compute the mean, which relies one one user-defined and one built-in function\n",
    "def MyMean (x):\n",
    "    SigmaX = AddItUp(x)#using AddItUp, the user-defined function that returns the sum of a sequence\n",
    "    n = len(x)#using len, the built in function that returns the length of a sequence\n",
    "    TheMean = SigmaX/n\n",
    "    return (TheMean)\n",
    "\n",
    "MyFakeData = [1.,2.,3.] #List \n",
    "\n",
    "print(MyMean(MyFakeData)) #print what the function returns, which will be the mean of the fake data\n",
    "    "
   ]
  },
  {
   "cell_type": "markdown",
   "id": "e3b02868",
   "metadata": {},
   "source": [
    "If anyone wants to accuse me now of wasting time go ahead. But remember that part of the goal with this book is for you to learn Python, which requires doing exercises in Python! So, in asking you to follow along to write a function that doesn't need to be written, I'm really just giving you practice. So now, try to write a function that calculates a sample standard deviation. Do it without peaking ahead to the next section!"
   ]
  },
  {
   "cell_type": "code",
   "execution_count": 4,
   "id": "a8e0d34e",
   "metadata": {},
   "outputs": [
    {
     "name": "stdout",
     "output_type": "stream",
     "text": [
      "2.0\n"
     ]
    }
   ],
   "source": [
    "SqrtOfFour = 4 ** .5 #Hint for the challenge!\n",
    "print(SqrtOfFour)"
   ]
  },
  {
   "cell_type": "markdown",
   "id": "aee1df92",
   "metadata": {},
   "source": [
    "## Built-In Modules\n",
    "\n",
    "Hopefully you successfully wrote a function for calculating a sample standard deviation. Now that you've done it the hard way, I'll tell you about adding functions to Python by importing built-in modules (installing and importing libraries will be covered later). That means you'll never have to write a function to calculate the standard deviation again (or for the first time).\n",
    "\n",
    "Python has numerous built in modules, or libraries, that are helpful for analyzing data. There are many other kinds of built in modules, but we'll focus on the ones for numeric and mathematical computation - and even then, just a subset of the modules. The [documentation](https://docs.python.org/3/library/numeric.html) is good, and there are plenty of pretty good tutorials like [this one](https://www.w3schools.com/python/module_statistics.asp). So, as usual, what's presented here isn't exhaustive, but more illusrative. I'll import the statistics module, and calculate the mean and sample standard deviation of some fake data. The general syntax for importing other built-in modules and working with their functions is the same. To import, include **import *ModuleName*** at the top of the script, and to use a function from the library save the results of *ModuleName*.*FunctionName()* to a variable, and then do whatever you want with the variable."
   ]
  },
  {
   "cell_type": "code",
   "execution_count": 9,
   "id": "0d75645b",
   "metadata": {},
   "outputs": [
    {
     "name": "stdout",
     "output_type": "stream",
     "text": [
      "EasyMean:2.0\n",
      "EasyStDev:1.0\n"
     ]
    }
   ],
   "source": [
    "import statistics\n",
    "\n",
    "MyFakeData = [1.,2.,3.]\n",
    "\n",
    "EasyMean = statistics.mean(MyFakeData)\n",
    "EasyStDev = statistics.stdev(MyFakeData)\n",
    "\n",
    "print(\"EasyMean:\" + str(EasyMean))\n",
    "print(\"EasyStDev:\" + str(EasyStDev))\n"
   ]
  },
  {
   "cell_type": "markdown",
   "id": "bf679167",
   "metadata": {},
   "source": [
    "Let's do some exercises, that perhaps require you to answer questions I haven't answered in this chapter?\n",
    "\n",
    "1 What does Python have available - in base Python! - to add up a list of numbers?\n",
    "\n",
    "give some broken code with import math and import random, maybe filtering out bad data? - dog example,"
   ]
  }
 ],
 "metadata": {
  "kernelspec": {
   "display_name": "Python 3 (ipykernel)",
   "language": "python",
   "name": "python3"
  },
  "language_info": {
   "codemirror_mode": {
    "name": "ipython",
    "version": 3
   },
   "file_extension": ".py",
   "mimetype": "text/x-python",
   "name": "python",
   "nbconvert_exporter": "python",
   "pygments_lexer": "ipython3",
   "version": "3.9.13"
  }
 },
 "nbformat": 4,
 "nbformat_minor": 5
}
