{
 "cells": [
  {
   "cell_type": "markdown",
   "id": "3ac535ff",
   "metadata": {},
   "source": [
    "# Chapter 5: Flow Control and Conditional Statements\n",
    "\n",
    "Topics to cover: if, elif, else (and pass, etc.)\n",
    "\n",
    "Examples: filter data to calculate separate means for diff groups; get rid of extreme values"
   ]
  },
  {
   "cell_type": "code",
   "execution_count": null,
   "id": "0000dc0b",
   "metadata": {},
   "outputs": [],
   "source": []
  }
 ],
 "metadata": {
  "kernelspec": {
   "display_name": "Python 3 (ipykernel)",
   "language": "python",
   "name": "python3"
  },
  "language_info": {
   "codemirror_mode": {
    "name": "ipython",
    "version": 3
   },
   "file_extension": ".py",
   "mimetype": "text/x-python",
   "name": "python",
   "nbconvert_exporter": "python",
   "pygments_lexer": "ipython3",
   "version": "3.9.13"
  }
 },
 "nbformat": 4,
 "nbformat_minor": 5
}
