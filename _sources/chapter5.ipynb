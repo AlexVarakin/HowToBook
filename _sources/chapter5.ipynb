{
 "cells": [
  {
   "cell_type": "markdown",
   "id": "3ac535ff",
   "metadata": {},
   "source": [
    "# Chapter 5: Flow Control and Conditional Statements\n",
    "\n",
    "Topics to cover: if, elif, else (and pass, etc.)\n",
    "\n",
    "Examples: filter data to calculate separate means for diff groups; get rid of extreme values"
   ]
  },
  {
   "cell_type": "markdown",
   "id": "c26f2b2d",
   "metadata": {},
   "source": [
    "Often, we want to perform some action only if some condition is satisfied. For example, we might want to examine only a subset of observations in a data set. In Python (and other programming languages), we can use *if*, *elif* and *else* statments in combination with comparison operators (see chapter 2) to select only the data we want to analyze. Recall, comparison operators (==,!=, >,<,>=,<=) compare the value of a variable to another value and return a boolean (true or false).\n",
    "\n",
    "*If* statements specify a condition, and what to do if that condition is true. What a program does after an *if* statement depends on what comes after. An *elif* statement will run after an *if* statment only if the condition is false, and another condition is met. An *else* statement will run if a previous *if* or *elif* statement is false, not matter what. Notice that both *elif* and *else* statements only run if the result of a previous statement is false. The difference is that *elif* statements require another condition to be true before anything happens, whereas an *else* statement does not. "
   ]
  },
  {
   "cell_type": "code",
   "execution_count": null,
   "id": "0f019988",
   "metadata": {},
   "outputs": [],
   "source": [
    "theAnswer = 42.0 "
   ]
  }
 ],
 "metadata": {
  "kernelspec": {
   "display_name": "Python 3 (ipykernel)",
   "language": "python",
   "name": "python3"
  },
  "language_info": {
   "codemirror_mode": {
    "name": "ipython",
    "version": 3
   },
   "file_extension": ".py",
   "mimetype": "text/x-python",
   "name": "python",
   "nbconvert_exporter": "python",
   "pygments_lexer": "ipython3",
   "version": "3.9.13"
  }
 },
 "nbformat": 4,
 "nbformat_minor": 5
}
