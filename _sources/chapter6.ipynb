{
 "cells": [
  {
   "cell_type": "markdown",
   "id": "57192645",
   "metadata": {},
   "source": [
    "# Chapter 6: Libraries and Files\n",
    "\n",
    "Topics: \n",
    "-useful libraries like numpy, scipy, stats-models, matplotlib - make note: I'm still at point of following \"cookbook\" approach for most libraries, but that works because of the way the libraries are documented. Huge number of libraries available through Anaconda. Go over finding and installing them if they need to be installed (will need to insert pictures into these notebooks)\n",
    "\n",
    "-Working with csv and text files (built in Python I/O functions and using Pandas). Note that this is something to become familiar with, since sometimes you won't have control over the format of the files you get, or what you need to provide in some cases! Be sure to include the \"magic code\" for making sure that the working directory is where it should be...\n",
    "\n",
    "examples: \n",
    "-open text files, extract word counts to Dictionary, then Dict to DataFrame, save as formatted csv.\n",
    "-Combine lots of separate files into one big file\n",
    "\n",
    "\n"
   ]
  }
 ],
 "metadata": {
  "kernelspec": {
   "display_name": "Python 3 (ipykernel)",
   "language": "python",
   "name": "python3"
  },
  "language_info": {
   "codemirror_mode": {
    "name": "ipython",
    "version": 3
   },
   "file_extension": ".py",
   "mimetype": "text/x-python",
   "name": "python",
   "nbconvert_exporter": "python",
   "pygments_lexer": "ipython3",
   "version": "3.9.13"
  }
 },
 "nbformat": 4,
 "nbformat_minor": 5
}
