{
 "cells": [
  {
   "cell_type": "markdown",
   "id": "8c399177",
   "metadata": {},
   "source": [
    "## Chapter 7: Statistical Tests\n",
    "\n",
    "Show how to do some common statistical tests with Python. Show pdf and cdf functions?\n",
    "\n",
    "Show multiple ways for t-tests, e.g. t-test using scipy-stats vs. stats-models.\n",
    "\n",
    "Discuss writing own vs. going with others..."
   ]
  }
 ],
 "metadata": {
  "kernelspec": {
   "display_name": "Python 3 (ipykernel)",
   "language": "python",
   "name": "python3"
  },
  "language_info": {
   "codemirror_mode": {
    "name": "ipython",
    "version": 3
   },
   "file_extension": ".py",
   "mimetype": "text/x-python",
   "name": "python",
   "nbconvert_exporter": "python",
   "pygments_lexer": "ipython3",
   "version": "3.9.13"
  }
 },
 "nbformat": 4,
 "nbformat_minor": 5
}
