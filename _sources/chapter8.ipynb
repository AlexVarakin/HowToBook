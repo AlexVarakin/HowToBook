{
 "cells": [
  {
   "cell_type": "markdown",
   "id": "10dfcd86",
   "metadata": {},
   "source": [
    "# Chapter 8: Data Visualization\n",
    "\n",
    "at this point, my hope is that the students are familiar enough with Python to not need this book for examples, since the examples in other sources should be good enough!!! So, this chapter will be an explicit example of using documentation/message boards to create a visualization.\n",
    "\n",
    "discuss libraries; maybe show examples from my own work."
   ]
  }
 ],
 "metadata": {
  "kernelspec": {
   "display_name": "Python 3 (ipykernel)",
   "language": "python",
   "name": "python3"
  },
  "language_info": {
   "codemirror_mode": {
    "name": "ipython",
    "version": 3
   },
   "file_extension": ".py",
   "mimetype": "text/x-python",
   "name": "python",
   "nbconvert_exporter": "python",
   "pygments_lexer": "ipython3",
   "version": "3.9.13"
  }
 },
 "nbformat": 4,
 "nbformat_minor": 5
}
