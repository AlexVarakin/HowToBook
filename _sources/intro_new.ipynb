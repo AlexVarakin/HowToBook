{
 "cells": [
  {
   "cell_type": "markdown",
   "id": "c6c85b68",
   "metadata": {},
   "source": [
    "# Why are you reading this?\n",
    "\n",
    "This book's purpose is to explain a bit about how to use Python for collecting and analyzing data. It is written specifically for students interested in sharpening their data analysis skills, by a professor who is broadly interested in cognitive science.\n",
    "\n",
    "There is almost nothing in this book that can't be found elsewhere on the web for free. A big part of the motivation for writing the book is for the author to get practice writing, and a little book to help students get started with Python seemed like a pretty easy place to start something that would provide writing practice and potentially be useful for students too.\n",
    "\n",
    "When you finish this book, you should be comfortable enough with Python to start tackling data analysis projects, and possibly even more. Since this book is a work in-progress, feedback is welcome: donald.varakin@gmail.com\n",
    "\n",
    "Note that the book is not finished yet... there will eventually be six chapters."
   ]
  }
 ],
 "metadata": {
  "kernelspec": {
   "display_name": "Python 3 (ipykernel)",
   "language": "python",
   "name": "python3"
  },
  "language_info": {
   "codemirror_mode": {
    "name": "ipython",
    "version": 3
   },
   "file_extension": ".py",
   "mimetype": "text/x-python",
   "name": "python",
   "nbconvert_exporter": "python",
   "pygments_lexer": "ipython3",
   "version": "3.9.13"
  }
 },
 "nbformat": 4,
 "nbformat_minor": 5
}
