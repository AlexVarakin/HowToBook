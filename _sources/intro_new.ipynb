{
 "cells": [
  {
   "cell_type": "markdown",
   "id": "c6c85b68",
   "metadata": {},
   "source": [
    "# Preface\n",
    "\n",
    "This book's purpose is to help explain how to use Python for collecting and analyzing data. It is written specifically for psychology students interested in sharpening their data analysis skills, by a psychology professor who is broadly interested in cognitive science.\n",
    "\n",
    "This book is not intended to be a standalone textbook, at least for now. This book exists in order to facilitate a seminar on data analysis in the Spring 2023 semester. There is almost nothing in this book that can't be found elsewhere on the web for free. A big part of the motivation for writing the book is for the author to get practice writing. A book about Python seemed like a pretty good way to kill multiple birds with one stone. Python kills birds.\n",
    "\n",
    "Anyone who makes it to the end of this book should be comfortable enough with Python to start tackling data analysis projects, and possibly even more. Since this book is a work in-progress, feedback is welcome: donald.varakin@gmail.com\n",
    "\n",
    "Note that the book is not finished yet... the state of some of the chapters is obviously in a temporary state."
   ]
  }
 ],
 "metadata": {
  "kernelspec": {
   "display_name": "Python 3 (ipykernel)",
   "language": "python",
   "name": "python3"
  },
  "language_info": {
   "codemirror_mode": {
    "name": "ipython",
    "version": 3
   },
   "file_extension": ".py",
   "mimetype": "text/x-python",
   "name": "python",
   "nbconvert_exporter": "python",
   "pygments_lexer": "ipython3",
   "version": "3.9.13"
  }
 },
 "nbformat": 4,
 "nbformat_minor": 5
}
